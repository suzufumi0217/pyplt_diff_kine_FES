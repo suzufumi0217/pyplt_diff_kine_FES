{
 "cells": [
  {
   "cell_type": "code",
   "execution_count": 1,
   "metadata": {},
   "outputs": [],
   "source": [
    "import numpy as np\n",
    "import pandas as pd\n",
    "import matplotlib.pyplot as plt"
   ]
  },
  {
   "cell_type": "code",
   "execution_count": 2,
   "metadata": {},
   "outputs": [],
   "source": [
    "diff_kine_FES = pd.read_excel(\"Diff_kine_FES.xlsx\",usecols = range(1,7), skiprows = [20,21])"
   ]
  },
  {
   "cell_type": "code",
   "execution_count": 36,
   "metadata": {},
   "outputs": [
    {
     "data": {
      "text/plain": [
       "(-1.0, 1.0)"
      ]
     },
     "execution_count": 36,
     "metadata": {},
     "output_type": "execute_result"
    },
    {
     "data": {
      "image/png": "[encoded data removed]",
      "text/plain": [
       "<Figure size 288x720 with 1 Axes>"
      ]
     },
     "metadata": {
      "needs_background": "light"
     },
     "output_type": "display_data"
    }
   ],
   "source": [
    "R_T3 = diff_kine_FES['diff_R_T3']\n",
    "R_T1 = diff_kine_FES['diff_R_T1']\n",
    "R_TE = diff_kine_FES['diff_R_TE']\n",
    "x1 = np.ones(len(y))\n",
    "x2 = np.full(len(R_T1),2)\n",
    "x3 = np.full(len(R_TE),3)\n",
    "\n",
    "fig, ax = plt.subplots(figsize=(4,10))\n",
    "plt.scatter(x1, R_T3)\n",
    "plt.scatter(x2, R_T1)\n",
    "plt.scatter(x3, R_TE)\n",
    "plt.xticks([1, 2, 3],\n",
    "['R_T3', 'R_T1', 'R_TE'])\n",
    "plt.ylim(-1,1)\n",
    "#ax.hlineをを用いて中央値を赤線で引きたいなぁ\n"
   ]
  },
  {
   "cell_type": "code",
   "execution_count": 6,
   "metadata": {},
   "outputs": [],
   "source": [
    "x1 = np.ones(len(y))\n",
    "x2 = x1.fill(2)\n",
    "x3 = x1.fill(3)"
   ]
  }
 ],
 "metadata": {
  "kernelspec": {
   "display_name": "Python 3",
   "language": "python",
   "name": "python3"
  },
  "language_info": {
   "codemirror_mode": {
    "name": "ipython",
    "version": 3
   },
   "file_extension": ".py",
   "mimetype": "text/x-python",
   "name": "python",
   "nbconvert_exporter": "python",
   "pygments_lexer": "ipython3",
   "version": "3.7.4"
  }
 },
 "nbformat": 4,
 "nbformat_minor": 2
}
